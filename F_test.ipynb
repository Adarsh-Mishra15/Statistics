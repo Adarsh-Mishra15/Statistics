{
 "cells": [
  {
   "cell_type": "markdown",
   "id": "164176b1-f0dc-4e11-bccf-13d5caa879f7",
   "metadata": {},
   "source": [
    "# F Test with Python"
   ]
  },
  {
   "cell_type": "code",
   "execution_count": 4,
   "id": "a9a51220-56e0-4f07-9538-6040ce8ee049",
   "metadata": {},
   "outputs": [],
   "source": [
    "# Evidence to say that the two population variances are not equal\n",
    "# no of bulbs produced by the worker, Which worker do good work\n",
    "worker1 = [18,19,22,25,27,28,41,45,51,55]\n",
    "worker2 = [14,15,15,17,18,22,25,25,27,34]"
   ]
  },
  {
   "cell_type": "code",
   "execution_count": 3,
   "id": "e61e0430-d5c6-44b1-af3e-d06288be1a80",
   "metadata": {},
   "outputs": [
    {
     "data": {
      "text/plain": [
       "(331, 212)"
      ]
     },
     "execution_count": 3,
     "metadata": {},
     "output_type": "execute_result"
    }
   ],
   "source": [
    "sum(worker1) , sum(worker2)"
   ]
  },
  {
   "cell_type": "code",
   "execution_count": 7,
   "id": "992bb571-ab52-472f-b3eb-27013b9c41a3",
   "metadata": {},
   "outputs": [],
   "source": [
    "import numpy as np\n",
    "f_test= np.var(worker1)/np.var(worker2)"
   ]
  },
  {
   "cell_type": "code",
   "execution_count": 8,
   "id": "72c575d7-46b4-4ed4-9f29-8a4370cd11d9",
   "metadata": {},
   "outputs": [
    {
     "data": {
      "text/plain": [
       "4.387122002085506"
      ]
     },
     "execution_count": 8,
     "metadata": {},
     "output_type": "execute_result"
    }
   ],
   "source": [
    "f_test"
   ]
  },
  {
   "cell_type": "code",
   "execution_count": 13,
   "id": "249b6e07-58e7-401c-ba6c-79e014bc9f07",
   "metadata": {},
   "outputs": [],
   "source": [
    "# degree of freedom\n",
    "dof1 = len(worker1)-1\n",
    "dof2 = len(worker2)-1\n",
    "significance_value = 0.05"
   ]
  },
  {
   "cell_type": "code",
   "execution_count": 14,
   "id": "f352ec10-11c3-41be-8c78-ebe7c6d904e9",
   "metadata": {},
   "outputs": [],
   "source": [
    "import scipy.stats as stat"
   ]
  },
  {
   "cell_type": "code",
   "execution_count": 17,
   "id": "d27ab69b-2fbe-490e-8e59-ef38428d2b33",
   "metadata": {},
   "outputs": [],
   "source": [
    "critical_value = stat.f.ppf(q = 1-significance_value, dfn = dof1, dfd=dof2)"
   ]
  },
  {
   "cell_type": "code",
   "execution_count": 18,
   "id": "b5093b73-973a-49f8-9513-f1ae8e292bea",
   "metadata": {},
   "outputs": [
    {
     "data": {
      "text/plain": [
       "3.178893104458269"
      ]
     },
     "execution_count": 18,
     "metadata": {},
     "output_type": "execute_result"
    }
   ],
   "source": [
    "critical_value"
   ]
  },
  {
   "cell_type": "code",
   "execution_count": 19,
   "id": "3aac77cc-c312-4622-b624-f9e623a98802",
   "metadata": {},
   "outputs": [
    {
     "name": "stdout",
     "output_type": "stream",
     "text": [
      "Reject the null hypothesis\n"
     ]
    }
   ],
   "source": [
    "if f_test > critical_value:\n",
    "    print(\"Reject the null hypothesis\")\n",
    "else :\n",
    "    print(\"We fail to reject the null hypothesis\")"
   ]
  },
  {
   "cell_type": "code",
   "execution_count": 20,
   "id": "9cb25a7c-e8b2-443c-a717-2f2a050d098b",
   "metadata": {},
   "outputs": [],
   "source": [
    "# Both performance is different"
   ]
  },
  {
   "cell_type": "code",
   "execution_count": null,
   "id": "e544f4b0-aa3a-400a-8d51-dce766658790",
   "metadata": {},
   "outputs": [],
   "source": []
  }
 ],
 "metadata": {
  "kernelspec": {
   "display_name": "Python 3 (ipykernel)",
   "language": "python",
   "name": "python3"
  },
  "language_info": {
   "codemirror_mode": {
    "name": "ipython",
    "version": 3
   },
   "file_extension": ".py",
   "mimetype": "text/x-python",
   "name": "python",
   "nbconvert_exporter": "python",
   "pygments_lexer": "ipython3",
   "version": "3.10.8"
  }
 },
 "nbformat": 4,
 "nbformat_minor": 5
}
