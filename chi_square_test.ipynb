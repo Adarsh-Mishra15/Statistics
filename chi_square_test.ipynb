{
 "cells": [
  {
   "cell_type": "code",
   "execution_count": 1,
   "id": "f87bbbef-5f4e-4d66-87dc-cc7aa9dc5d9c",
   "metadata": {},
   "outputs": [],
   "source": [
    "import scipy.stats as stats"
   ]
  },
  {
   "cell_type": "code",
   "execution_count": 12,
   "id": "5b837441-1671-4985-95d5-c764718be57d",
   "metadata": {},
   "outputs": [],
   "source": [
    "# No of hours students study in a weekly basis daily\n",
    "# Monday Tuesday Wednesday Thursday Friday Saturday Sunday\n",
    "expected_data = [8,6,7,9,6,9,7]\n",
    "observed_data = [7,8,6,9,9,6,7]"
   ]
  },
  {
   "cell_type": "code",
   "execution_count": 5,
   "id": "17fda80c-6ac0-4de3-95f7-66de8dcdbc14",
   "metadata": {},
   "outputs": [
    {
     "data": {
      "text/plain": [
       "(52, 52)"
      ]
     },
     "execution_count": 5,
     "metadata": {},
     "output_type": "execute_result"
    }
   ],
   "source": [
    "sum(expected_data), sum(observed_data)"
   ]
  },
  {
   "cell_type": "code",
   "execution_count": 7,
   "id": "9ebb4929-ce62-43ac-afd4-527b976769be",
   "metadata": {},
   "outputs": [],
   "source": [
    "chisquare_test_statistics,p_value=stats.chisquare(observed_data, expected_data)"
   ]
  },
  {
   "cell_type": "code",
   "execution_count": 8,
   "id": "c1f4205e-c993-4d32-9242-d20c35dd5ced",
   "metadata": {},
   "outputs": [
    {
     "data": {
      "text/plain": [
       "(3.4345238095238093, 0.7526596580922865)"
      ]
     },
     "execution_count": 8,
     "metadata": {},
     "output_type": "execute_result"
    }
   ],
   "source": [
    "chisquare_test_statistics,p_value"
   ]
  },
  {
   "cell_type": "code",
   "execution_count": 9,
   "id": "827bc27d-53b1-410d-8870-1da7d55571d9",
   "metadata": {},
   "outputs": [],
   "source": [
    "## Find the critical value\n",
    "significance_value = 0.5\n",
    "dof = len(expected_data) -1\n",
    "critical_value = stats.chi2.ppf(1-significance_value,dof)"
   ]
  },
  {
   "cell_type": "code",
   "execution_count": 10,
   "id": "2e949813-bbb7-447e-bf99-d58109908b7b",
   "metadata": {},
   "outputs": [
    {
     "data": {
      "text/plain": [
       "5.348120627447118"
      ]
     },
     "execution_count": 10,
     "metadata": {},
     "output_type": "execute_result"
    }
   ],
   "source": [
    "critical_value"
   ]
  },
  {
   "cell_type": "code",
   "execution_count": 11,
   "id": "c54ce4db-dd83-4388-8b0f-8847b0abef12",
   "metadata": {},
   "outputs": [
    {
     "name": "stdout",
     "output_type": "stream",
     "text": [
      "Accept the Null Hypothesis\n"
     ]
    }
   ],
   "source": [
    "if chisquare_test_statistics > critical_value:\n",
    "    print(\"Reject the Null Hypothesis\")\n",
    "else:\n",
    "    print(\"Accept the Null Hypothesis\")"
   ]
  },
  {
   "cell_type": "code",
   "execution_count": null,
   "id": "0720badf-3575-4559-97ab-e480ea5497cf",
   "metadata": {},
   "outputs": [],
   "source": []
  }
 ],
 "metadata": {
  "kernelspec": {
   "display_name": "Python 3 (ipykernel)",
   "language": "python",
   "name": "python3"
  },
  "language_info": {
   "codemirror_mode": {
    "name": "ipython",
    "version": 3
   },
   "file_extension": ".py",
   "mimetype": "text/x-python",
   "name": "python",
   "nbconvert_exporter": "python",
   "pygments_lexer": "ipython3",
   "version": "3.10.8"
  }
 },
 "nbformat": 4,
 "nbformat_minor": 5
}
